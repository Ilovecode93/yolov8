{
 "cells": [
  {
   "cell_type": "code",
   "execution_count": 10,
   "metadata": {},
   "outputs": [
    {
     "name": "stdout",
     "output_type": "stream",
     "text": [
      "res_number_pig:  23\n",
      "res_pic_path:  /home/xiaoshijia/PycharmProjects/ai_server_manage/pic/20231108/pig_statistics/31011500991180017737_34020000001310000025/20231108160010-160.jpg\n"
     ]
    }
   ],
   "source": [
    "import json\n",
    "from collections import Counter\n",
    "\n",
    "# Load the JSON data from the file\n",
    "file_path = 'result.json'\n",
    "with open(file_path, 'r') as file:\n",
    "    pig_dict = json.load(file)\n",
    "# Initialize a dictionary to hold the count of each sequence number\n",
    "tmp_dict  = {}\n",
    "\n",
    "# Loop through all the values in the JSON data\n",
    "for value in pig_dict.values():\n",
    "    # The sequence number is the first item in the list\n",
    "    pigcount = value[0]\n",
    "    pigcount_appear = value[2]\n",
    "    #print(\"pigcount, pigappear: \", pigcount, pigcount_appear)\n",
    "    # Add the count for each sequence number\n",
    "    if pigcount in tmp_dict:\n",
    "        tmp_dict[pigcount] += pigcount_appear\n",
    "    else:\n",
    "        tmp_dict[pigcount] = pigcount_appear\n",
    "#print(tmp_dict)\n",
    "# Convert the dictionary to a list of tuples and sort by sequence number\n",
    "sorted_number = sorted(tmp_dict.items(), key=lambda item: item[1], reverse=True)\n",
    "most_common_number = sorted_number[0][0]\n",
    "res = {k: v for k, v in pig_dict.items() if v[0] == most_common_number}\n",
    "target_time = \"1700\"\n",
    "res_pic_path = None\n",
    "res_number_pig = None\n",
    "closest_key = max(res, key=lambda k: abs(int(k.split('-')[0]) - int(target_time)))\n",
    "for tmp_key, v in res.items():\n",
    "    if tmp_key == closest_key: \n",
    "        res_number_pig = v[0]\n",
    "        res_pic_path = v[1]\n",
    "print(\"res_number_pig: \", res_number_pig)\n",
    "print(\"res_pic_path: \", res_pic_path)"
   ]
  }
 ],
 "metadata": {
  "kernelspec": {
   "display_name": "yolotrt",
   "language": "python",
   "name": "python3"
  },
  "language_info": {
   "codemirror_mode": {
    "name": "ipython",
    "version": 3
   },
   "file_extension": ".py",
   "mimetype": "text/x-python",
   "name": "python",
   "nbconvert_exporter": "python",
   "pygments_lexer": "ipython3",
   "version": "3.9.17"
  },
  "orig_nbformat": 4
 },
 "nbformat": 4,
 "nbformat_minor": 2
}
